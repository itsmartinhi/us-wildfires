{
 "cells": [
  {
   "cell_type": "code",
   "execution_count": 1,
   "metadata": {
    "collapsed": true
   },
   "outputs": [],
   "source": [
    "import pandas as pd"
   ]
  },
  {
   "cell_type": "code",
   "execution_count": 2,
   "outputs": [
    {
     "data": {
      "text/plain": "   OBJECTID  FOD_ID      FPA_ID SOURCE_SYSTEM_TYPE SOURCE_SYSTEM  \\\n0         1       1  FS-1418826                FED   FS-FIRESTAT   \n1         2       2  FS-1418827                FED   FS-FIRESTAT   \n2         3       3  FS-1418835                FED   FS-FIRESTAT   \n3         4       4  FS-1418845                FED   FS-FIRESTAT   \n4         5       5  FS-1418847                FED   FS-FIRESTAT   \n\n  NWCG_REPORTING_AGENCY NWCG_REPORTING_UNIT_ID  NWCG_REPORTING_UNIT_NAME  \\\n0                    FS                USCAPNF    Plumas National Forest   \n1                    FS                USCAENF  Eldorado National Forest   \n2                    FS                USCAENF  Eldorado National Forest   \n3                    FS                USCAENF  Eldorado National Forest   \n4                    FS                USCAENF  Eldorado National Forest   \n\n  SOURCE_REPORTING_UNIT SOURCE_REPORTING_UNIT_NAME  ... FIRE_SIZE_CLASS  \\\n0                  0511     Plumas National Forest  ...               A   \n1                  0503   Eldorado National Forest  ...               A   \n2                  0503   Eldorado National Forest  ...               A   \n3                  0503   Eldorado National Forest  ...               A   \n4                  0503   Eldorado National Forest  ...               A   \n\n    LATITUDE   LONGITUDE OWNER_CODE       OWNER_DESCR STATE COUNTY FIPS_CODE  \\\n0  40.036944 -121.005833        5.0              USFS    CA     63      63.0   \n1  38.933056 -120.404444        5.0              USFS    CA     61      61.0   \n2  38.984167 -120.735556       13.0  STATE OR PRIVATE    CA     17      17.0   \n3  38.559167 -119.913333        5.0              USFS    CA      3       3.0   \n4  38.559167 -119.933056        5.0              USFS    CA      3       3.0   \n\n   FIPS_NAME  Shape  \n0     Plumas    NaN  \n1     Placer    NaN  \n2  El Dorado    NaN  \n3     Alpine    NaN  \n4     Alpine    NaN  \n\n[5 rows x 39 columns]",
      "text/html": "<div>\n<style scoped>\n    .dataframe tbody tr th:only-of-type {\n        vertical-align: middle;\n    }\n\n    .dataframe tbody tr th {\n        vertical-align: top;\n    }\n\n    .dataframe thead th {\n        text-align: right;\n    }\n</style>\n<table border=\"1\" class=\"dataframe\">\n  <thead>\n    <tr style=\"text-align: right;\">\n      <th></th>\n      <th>OBJECTID</th>\n      <th>FOD_ID</th>\n      <th>FPA_ID</th>\n      <th>SOURCE_SYSTEM_TYPE</th>\n      <th>SOURCE_SYSTEM</th>\n      <th>NWCG_REPORTING_AGENCY</th>\n      <th>NWCG_REPORTING_UNIT_ID</th>\n      <th>NWCG_REPORTING_UNIT_NAME</th>\n      <th>SOURCE_REPORTING_UNIT</th>\n      <th>SOURCE_REPORTING_UNIT_NAME</th>\n      <th>...</th>\n      <th>FIRE_SIZE_CLASS</th>\n      <th>LATITUDE</th>\n      <th>LONGITUDE</th>\n      <th>OWNER_CODE</th>\n      <th>OWNER_DESCR</th>\n      <th>STATE</th>\n      <th>COUNTY</th>\n      <th>FIPS_CODE</th>\n      <th>FIPS_NAME</th>\n      <th>Shape</th>\n    </tr>\n  </thead>\n  <tbody>\n    <tr>\n      <th>0</th>\n      <td>1</td>\n      <td>1</td>\n      <td>FS-1418826</td>\n      <td>FED</td>\n      <td>FS-FIRESTAT</td>\n      <td>FS</td>\n      <td>USCAPNF</td>\n      <td>Plumas National Forest</td>\n      <td>0511</td>\n      <td>Plumas National Forest</td>\n      <td>...</td>\n      <td>A</td>\n      <td>40.036944</td>\n      <td>-121.005833</td>\n      <td>5.0</td>\n      <td>USFS</td>\n      <td>CA</td>\n      <td>63</td>\n      <td>63.0</td>\n      <td>Plumas</td>\n      <td>NaN</td>\n    </tr>\n    <tr>\n      <th>1</th>\n      <td>2</td>\n      <td>2</td>\n      <td>FS-1418827</td>\n      <td>FED</td>\n      <td>FS-FIRESTAT</td>\n      <td>FS</td>\n      <td>USCAENF</td>\n      <td>Eldorado National Forest</td>\n      <td>0503</td>\n      <td>Eldorado National Forest</td>\n      <td>...</td>\n      <td>A</td>\n      <td>38.933056</td>\n      <td>-120.404444</td>\n      <td>5.0</td>\n      <td>USFS</td>\n      <td>CA</td>\n      <td>61</td>\n      <td>61.0</td>\n      <td>Placer</td>\n      <td>NaN</td>\n    </tr>\n    <tr>\n      <th>2</th>\n      <td>3</td>\n      <td>3</td>\n      <td>FS-1418835</td>\n      <td>FED</td>\n      <td>FS-FIRESTAT</td>\n      <td>FS</td>\n      <td>USCAENF</td>\n      <td>Eldorado National Forest</td>\n      <td>0503</td>\n      <td>Eldorado National Forest</td>\n      <td>...</td>\n      <td>A</td>\n      <td>38.984167</td>\n      <td>-120.735556</td>\n      <td>13.0</td>\n      <td>STATE OR PRIVATE</td>\n      <td>CA</td>\n      <td>17</td>\n      <td>17.0</td>\n      <td>El Dorado</td>\n      <td>NaN</td>\n    </tr>\n    <tr>\n      <th>3</th>\n      <td>4</td>\n      <td>4</td>\n      <td>FS-1418845</td>\n      <td>FED</td>\n      <td>FS-FIRESTAT</td>\n      <td>FS</td>\n      <td>USCAENF</td>\n      <td>Eldorado National Forest</td>\n      <td>0503</td>\n      <td>Eldorado National Forest</td>\n      <td>...</td>\n      <td>A</td>\n      <td>38.559167</td>\n      <td>-119.913333</td>\n      <td>5.0</td>\n      <td>USFS</td>\n      <td>CA</td>\n      <td>3</td>\n      <td>3.0</td>\n      <td>Alpine</td>\n      <td>NaN</td>\n    </tr>\n    <tr>\n      <th>4</th>\n      <td>5</td>\n      <td>5</td>\n      <td>FS-1418847</td>\n      <td>FED</td>\n      <td>FS-FIRESTAT</td>\n      <td>FS</td>\n      <td>USCAENF</td>\n      <td>Eldorado National Forest</td>\n      <td>0503</td>\n      <td>Eldorado National Forest</td>\n      <td>...</td>\n      <td>A</td>\n      <td>38.559167</td>\n      <td>-119.933056</td>\n      <td>5.0</td>\n      <td>USFS</td>\n      <td>CA</td>\n      <td>3</td>\n      <td>3.0</td>\n      <td>Alpine</td>\n      <td>NaN</td>\n    </tr>\n  </tbody>\n</table>\n<p>5 rows × 39 columns</p>\n</div>"
     },
     "execution_count": 2,
     "metadata": {},
     "output_type": "execute_result"
    }
   ],
   "source": [
    "df = pd.read_csv(\n",
    "    \"./data/wildfires.csv\",\n",
    "    low_memory=False\n",
    ")\n",
    "df.head()"
   ],
   "metadata": {
    "collapsed": false,
    "pycharm": {
     "name": "#%%\n"
    }
   }
  },
  {
   "cell_type": "code",
   "execution_count": 3,
   "outputs": [
    {
     "data": {
      "text/plain": "(1880465, 39)"
     },
     "execution_count": 3,
     "metadata": {},
     "output_type": "execute_result"
    }
   ],
   "source": [
    "df.shape"
   ],
   "metadata": {
    "collapsed": false,
    "pycharm": {
     "name": "#%%\n"
    }
   }
  },
  {
   "cell_type": "code",
   "execution_count": 4,
   "outputs": [
    {
     "data": {
      "text/plain": "                 OBJECTID    FOD_ID  FIRE_YEAR  DISCOVERY_DATE  DISCOVERY_DOY  \\\nOBJECTID         1.000000  0.736625   0.515138        0.512169      -0.075348   \nFOD_ID           0.736625  1.000000   0.683548        0.682485      -0.022077   \nFIRE_YEAR        0.515138  0.683548   1.000000        0.999316      -0.008885   \nDISCOVERY_DATE   0.512169  0.682485   0.999316        1.000000       0.028105   \nDISCOVERY_DOY   -0.075348 -0.022077  -0.008885        0.028105       1.000000   \nDISCOVERY_TIME   0.046689  0.031819   0.030543        0.029262      -0.039945   \nSTAT_CAUSE_CODE  0.189755  0.103393   0.057157        0.052594      -0.122816   \nCONT_DATE        0.621236  0.749375   0.999495        0.999983       0.020174   \nCONT_DOY        -0.142071 -0.058620  -0.005300        0.025711       0.994455   \nCONT_TIME        0.012537  0.025938   0.019465        0.018723      -0.023590   \nFIRE_SIZE       -0.010243  0.002855   0.007048        0.007260       0.005810   \nLATITUDE        -0.191597 -0.089132   0.000407        0.005821       0.146405   \nLONGITUDE        0.213241 -0.041952   0.015863        0.006870      -0.243033   \nOWNER_CODE       0.253951 -0.046291  -0.025825       -0.030869      -0.136616   \nFIPS_CODE        0.090271  0.069311   0.061574        0.059717      -0.044423   \nShape                 NaN       NaN        NaN             NaN            NaN   \n\n                 DISCOVERY_TIME  STAT_CAUSE_CODE  CONT_DATE  CONT_DOY  \\\nOBJECTID               0.046689         0.189755   0.621236 -0.142071   \nFOD_ID                 0.031819         0.103393   0.749375 -0.058620   \nFIRE_YEAR              0.030543         0.057157   0.999495 -0.005300   \nDISCOVERY_DATE         0.029262         0.052594   0.999983  0.025711   \nDISCOVERY_DOY         -0.039945        -0.122816   0.020174  0.994455   \nDISCOVERY_TIME         1.000000         0.024374   0.027724 -0.041970   \nSTAT_CAUSE_CODE        0.024374         1.000000   0.014417 -0.182347   \nCONT_DATE              0.027724         0.014417   1.000000  0.026053   \nCONT_DOY              -0.041970        -0.182347   0.026053  1.000000   \nCONT_TIME              0.549620        -0.025593   0.018590 -0.027152   \nFIRE_SIZE              0.000982        -0.021364   0.007157  0.023466   \nLATITUDE               0.021728        -0.155831   0.053056  0.165286   \nLONGITUDE              0.063089         0.182501   0.064048 -0.279124   \nOWNER_CODE             0.014043         0.295973   0.083508 -0.159852   \nFIPS_CODE              0.014242        -0.022131  -0.077216 -0.097571   \nShape                       NaN              NaN        NaN       NaN   \n\n                 CONT_TIME  FIRE_SIZE  LATITUDE  LONGITUDE  OWNER_CODE  \\\nOBJECTID          0.012537  -0.010243 -0.191597   0.213241    0.253951   \nFOD_ID            0.025938   0.002855 -0.089132  -0.041952   -0.046291   \nFIRE_YEAR         0.019465   0.007048  0.000407   0.015863   -0.025825   \nDISCOVERY_DATE    0.018723   0.007260  0.005821   0.006870   -0.030869   \nDISCOVERY_DOY    -0.023590   0.005810  0.146405  -0.243033   -0.136616   \nDISCOVERY_TIME    0.549620   0.000982  0.021728   0.063089    0.014043   \nSTAT_CAUSE_CODE  -0.025593  -0.021364 -0.155831   0.182501    0.295973   \nCONT_DATE         0.018590   0.007157  0.053056   0.064048    0.083508   \nCONT_DOY         -0.027152   0.023466  0.165286  -0.279124   -0.159852   \nCONT_TIME         1.000000  -0.001539 -0.012641   0.024545   -0.013321   \nFIRE_SIZE        -0.001539   1.000000  0.038860  -0.039731   -0.029635   \nLATITUDE         -0.012641   0.038860  1.000000  -0.354727   -0.304302   \nLONGITUDE         0.024545  -0.039731 -0.354727   1.000000    0.395288   \nOWNER_CODE       -0.013321  -0.029635 -0.304302   0.395288    1.000000   \nFIPS_CODE         0.027726  -0.006284 -0.293746   0.105448    0.135056   \nShape                  NaN        NaN       NaN        NaN         NaN   \n\n                 FIPS_CODE  Shape  \nOBJECTID          0.090271    NaN  \nFOD_ID            0.069311    NaN  \nFIRE_YEAR         0.061574    NaN  \nDISCOVERY_DATE    0.059717    NaN  \nDISCOVERY_DOY    -0.044423    NaN  \nDISCOVERY_TIME    0.014242    NaN  \nSTAT_CAUSE_CODE  -0.022131    NaN  \nCONT_DATE        -0.077216    NaN  \nCONT_DOY         -0.097571    NaN  \nCONT_TIME         0.027726    NaN  \nFIRE_SIZE        -0.006284    NaN  \nLATITUDE         -0.293746    NaN  \nLONGITUDE         0.105448    NaN  \nOWNER_CODE        0.135056    NaN  \nFIPS_CODE         1.000000    NaN  \nShape                  NaN    NaN  ",
      "text/html": "<div>\n<style scoped>\n    .dataframe tbody tr th:only-of-type {\n        vertical-align: middle;\n    }\n\n    .dataframe tbody tr th {\n        vertical-align: top;\n    }\n\n    .dataframe thead th {\n        text-align: right;\n    }\n</style>\n<table border=\"1\" class=\"dataframe\">\n  <thead>\n    <tr style=\"text-align: right;\">\n      <th></th>\n      <th>OBJECTID</th>\n      <th>FOD_ID</th>\n      <th>FIRE_YEAR</th>\n      <th>DISCOVERY_DATE</th>\n      <th>DISCOVERY_DOY</th>\n      <th>DISCOVERY_TIME</th>\n      <th>STAT_CAUSE_CODE</th>\n      <th>CONT_DATE</th>\n      <th>CONT_DOY</th>\n      <th>CONT_TIME</th>\n      <th>FIRE_SIZE</th>\n      <th>LATITUDE</th>\n      <th>LONGITUDE</th>\n      <th>OWNER_CODE</th>\n      <th>FIPS_CODE</th>\n      <th>Shape</th>\n    </tr>\n  </thead>\n  <tbody>\n    <tr>\n      <th>OBJECTID</th>\n      <td>1.000000</td>\n      <td>0.736625</td>\n      <td>0.515138</td>\n      <td>0.512169</td>\n      <td>-0.075348</td>\n      <td>0.046689</td>\n      <td>0.189755</td>\n      <td>0.621236</td>\n      <td>-0.142071</td>\n      <td>0.012537</td>\n      <td>-0.010243</td>\n      <td>-0.191597</td>\n      <td>0.213241</td>\n      <td>0.253951</td>\n      <td>0.090271</td>\n      <td>NaN</td>\n    </tr>\n    <tr>\n      <th>FOD_ID</th>\n      <td>0.736625</td>\n      <td>1.000000</td>\n      <td>0.683548</td>\n      <td>0.682485</td>\n      <td>-0.022077</td>\n      <td>0.031819</td>\n      <td>0.103393</td>\n      <td>0.749375</td>\n      <td>-0.058620</td>\n      <td>0.025938</td>\n      <td>0.002855</td>\n      <td>-0.089132</td>\n      <td>-0.041952</td>\n      <td>-0.046291</td>\n      <td>0.069311</td>\n      <td>NaN</td>\n    </tr>\n    <tr>\n      <th>FIRE_YEAR</th>\n      <td>0.515138</td>\n      <td>0.683548</td>\n      <td>1.000000</td>\n      <td>0.999316</td>\n      <td>-0.008885</td>\n      <td>0.030543</td>\n      <td>0.057157</td>\n      <td>0.999495</td>\n      <td>-0.005300</td>\n      <td>0.019465</td>\n      <td>0.007048</td>\n      <td>0.000407</td>\n      <td>0.015863</td>\n      <td>-0.025825</td>\n      <td>0.061574</td>\n      <td>NaN</td>\n    </tr>\n    <tr>\n      <th>DISCOVERY_DATE</th>\n      <td>0.512169</td>\n      <td>0.682485</td>\n      <td>0.999316</td>\n      <td>1.000000</td>\n      <td>0.028105</td>\n      <td>0.029262</td>\n      <td>0.052594</td>\n      <td>0.999983</td>\n      <td>0.025711</td>\n      <td>0.018723</td>\n      <td>0.007260</td>\n      <td>0.005821</td>\n      <td>0.006870</td>\n      <td>-0.030869</td>\n      <td>0.059717</td>\n      <td>NaN</td>\n    </tr>\n    <tr>\n      <th>DISCOVERY_DOY</th>\n      <td>-0.075348</td>\n      <td>-0.022077</td>\n      <td>-0.008885</td>\n      <td>0.028105</td>\n      <td>1.000000</td>\n      <td>-0.039945</td>\n      <td>-0.122816</td>\n      <td>0.020174</td>\n      <td>0.994455</td>\n      <td>-0.023590</td>\n      <td>0.005810</td>\n      <td>0.146405</td>\n      <td>-0.243033</td>\n      <td>-0.136616</td>\n      <td>-0.044423</td>\n      <td>NaN</td>\n    </tr>\n    <tr>\n      <th>DISCOVERY_TIME</th>\n      <td>0.046689</td>\n      <td>0.031819</td>\n      <td>0.030543</td>\n      <td>0.029262</td>\n      <td>-0.039945</td>\n      <td>1.000000</td>\n      <td>0.024374</td>\n      <td>0.027724</td>\n      <td>-0.041970</td>\n      <td>0.549620</td>\n      <td>0.000982</td>\n      <td>0.021728</td>\n      <td>0.063089</td>\n      <td>0.014043</td>\n      <td>0.014242</td>\n      <td>NaN</td>\n    </tr>\n    <tr>\n      <th>STAT_CAUSE_CODE</th>\n      <td>0.189755</td>\n      <td>0.103393</td>\n      <td>0.057157</td>\n      <td>0.052594</td>\n      <td>-0.122816</td>\n      <td>0.024374</td>\n      <td>1.000000</td>\n      <td>0.014417</td>\n      <td>-0.182347</td>\n      <td>-0.025593</td>\n      <td>-0.021364</td>\n      <td>-0.155831</td>\n      <td>0.182501</td>\n      <td>0.295973</td>\n      <td>-0.022131</td>\n      <td>NaN</td>\n    </tr>\n    <tr>\n      <th>CONT_DATE</th>\n      <td>0.621236</td>\n      <td>0.749375</td>\n      <td>0.999495</td>\n      <td>0.999983</td>\n      <td>0.020174</td>\n      <td>0.027724</td>\n      <td>0.014417</td>\n      <td>1.000000</td>\n      <td>0.026053</td>\n      <td>0.018590</td>\n      <td>0.007157</td>\n      <td>0.053056</td>\n      <td>0.064048</td>\n      <td>0.083508</td>\n      <td>-0.077216</td>\n      <td>NaN</td>\n    </tr>\n    <tr>\n      <th>CONT_DOY</th>\n      <td>-0.142071</td>\n      <td>-0.058620</td>\n      <td>-0.005300</td>\n      <td>0.025711</td>\n      <td>0.994455</td>\n      <td>-0.041970</td>\n      <td>-0.182347</td>\n      <td>0.026053</td>\n      <td>1.000000</td>\n      <td>-0.027152</td>\n      <td>0.023466</td>\n      <td>0.165286</td>\n      <td>-0.279124</td>\n      <td>-0.159852</td>\n      <td>-0.097571</td>\n      <td>NaN</td>\n    </tr>\n    <tr>\n      <th>CONT_TIME</th>\n      <td>0.012537</td>\n      <td>0.025938</td>\n      <td>0.019465</td>\n      <td>0.018723</td>\n      <td>-0.023590</td>\n      <td>0.549620</td>\n      <td>-0.025593</td>\n      <td>0.018590</td>\n      <td>-0.027152</td>\n      <td>1.000000</td>\n      <td>-0.001539</td>\n      <td>-0.012641</td>\n      <td>0.024545</td>\n      <td>-0.013321</td>\n      <td>0.027726</td>\n      <td>NaN</td>\n    </tr>\n    <tr>\n      <th>FIRE_SIZE</th>\n      <td>-0.010243</td>\n      <td>0.002855</td>\n      <td>0.007048</td>\n      <td>0.007260</td>\n      <td>0.005810</td>\n      <td>0.000982</td>\n      <td>-0.021364</td>\n      <td>0.007157</td>\n      <td>0.023466</td>\n      <td>-0.001539</td>\n      <td>1.000000</td>\n      <td>0.038860</td>\n      <td>-0.039731</td>\n      <td>-0.029635</td>\n      <td>-0.006284</td>\n      <td>NaN</td>\n    </tr>\n    <tr>\n      <th>LATITUDE</th>\n      <td>-0.191597</td>\n      <td>-0.089132</td>\n      <td>0.000407</td>\n      <td>0.005821</td>\n      <td>0.146405</td>\n      <td>0.021728</td>\n      <td>-0.155831</td>\n      <td>0.053056</td>\n      <td>0.165286</td>\n      <td>-0.012641</td>\n      <td>0.038860</td>\n      <td>1.000000</td>\n      <td>-0.354727</td>\n      <td>-0.304302</td>\n      <td>-0.293746</td>\n      <td>NaN</td>\n    </tr>\n    <tr>\n      <th>LONGITUDE</th>\n      <td>0.213241</td>\n      <td>-0.041952</td>\n      <td>0.015863</td>\n      <td>0.006870</td>\n      <td>-0.243033</td>\n      <td>0.063089</td>\n      <td>0.182501</td>\n      <td>0.064048</td>\n      <td>-0.279124</td>\n      <td>0.024545</td>\n      <td>-0.039731</td>\n      <td>-0.354727</td>\n      <td>1.000000</td>\n      <td>0.395288</td>\n      <td>0.105448</td>\n      <td>NaN</td>\n    </tr>\n    <tr>\n      <th>OWNER_CODE</th>\n      <td>0.253951</td>\n      <td>-0.046291</td>\n      <td>-0.025825</td>\n      <td>-0.030869</td>\n      <td>-0.136616</td>\n      <td>0.014043</td>\n      <td>0.295973</td>\n      <td>0.083508</td>\n      <td>-0.159852</td>\n      <td>-0.013321</td>\n      <td>-0.029635</td>\n      <td>-0.304302</td>\n      <td>0.395288</td>\n      <td>1.000000</td>\n      <td>0.135056</td>\n      <td>NaN</td>\n    </tr>\n    <tr>\n      <th>FIPS_CODE</th>\n      <td>0.090271</td>\n      <td>0.069311</td>\n      <td>0.061574</td>\n      <td>0.059717</td>\n      <td>-0.044423</td>\n      <td>0.014242</td>\n      <td>-0.022131</td>\n      <td>-0.077216</td>\n      <td>-0.097571</td>\n      <td>0.027726</td>\n      <td>-0.006284</td>\n      <td>-0.293746</td>\n      <td>0.105448</td>\n      <td>0.135056</td>\n      <td>1.000000</td>\n      <td>NaN</td>\n    </tr>\n    <tr>\n      <th>Shape</th>\n      <td>NaN</td>\n      <td>NaN</td>\n      <td>NaN</td>\n      <td>NaN</td>\n      <td>NaN</td>\n      <td>NaN</td>\n      <td>NaN</td>\n      <td>NaN</td>\n      <td>NaN</td>\n      <td>NaN</td>\n      <td>NaN</td>\n      <td>NaN</td>\n      <td>NaN</td>\n      <td>NaN</td>\n      <td>NaN</td>\n      <td>NaN</td>\n    </tr>\n  </tbody>\n</table>\n</div>"
     },
     "execution_count": 4,
     "metadata": {},
     "output_type": "execute_result"
    }
   ],
   "source": [
    "df.corr()"
   ],
   "metadata": {
    "collapsed": false,
    "pycharm": {
     "name": "#%%\n"
    }
   }
  },
  {
   "cell_type": "markdown",
   "source": [
    "## Zu prüfende Korrelationen\n",
    "- long, lat location zu jahreszeit\n",
    "- size zu containment time\n",
    "-"
   ],
   "metadata": {
    "collapsed": false,
    "pycharm": {
     "name": "#%% md\n"
    }
   }
  }
 ],
 "metadata": {
  "kernelspec": {
   "display_name": "Python 3",
   "language": "python",
   "name": "python3"
  },
  "language_info": {
   "codemirror_mode": {
    "name": "ipython",
    "version": 2
   },
   "file_extension": ".py",
   "mimetype": "text/x-python",
   "name": "python",
   "nbconvert_exporter": "python",
   "pygments_lexer": "ipython2",
   "version": "2.7.6"
  }
 },
 "nbformat": 4,
 "nbformat_minor": 0
}